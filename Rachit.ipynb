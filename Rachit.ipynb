{
 "cells": [
  {
   "cell_type": "code",
   "execution_count": 1,
   "id": "768db409",
   "metadata": {},
   "outputs": [],
   "source": [
    "import gzip\n",
    "import json\n",
    "import pandas as pd"
   ]
  },
  {
   "cell_type": "code",
   "execution_count": 3,
   "id": "3b64ebd6",
   "metadata": {},
   "outputs": [
    {
     "name": "stderr",
     "output_type": "stream",
     "text": [
      "/var/folders/kn/5p9n18rd2r58j5lzlvq6zh040000gn/T/ipykernel_36731/3375004999.py:1: DtypeWarning: Columns (2,4,13,14,19) have mixed types. Specify dtype option on import or set low_memory=False.\n",
      "  data = pd.read_csv('../../Data/Amazon/meta_books.csv')\n"
     ]
    }
   ],
   "source": [
    "data = pd.read_csv('../../Data/Amazon/meta_books.csv')"
   ]
  },
  {
   "cell_type": "code",
   "execution_count": 4,
   "id": "8155667d",
   "metadata": {},
   "outputs": [
    {
     "data": {
      "text/html": [
       "<div>\n",
       "<style scoped>\n",
       "    .dataframe tbody tr th:only-of-type {\n",
       "        vertical-align: middle;\n",
       "    }\n",
       "\n",
       "    .dataframe tbody tr th {\n",
       "        vertical-align: top;\n",
       "    }\n",
       "\n",
       "    .dataframe thead th {\n",
       "        text-align: right;\n",
       "    }\n",
       "</style>\n",
       "<table border=\"1\" class=\"dataframe\">\n",
       "  <thead>\n",
       "    <tr style=\"text-align: right;\">\n",
       "      <th></th>\n",
       "      <th>Unnamed: 0</th>\n",
       "      <th>category</th>\n",
       "      <th>tech1</th>\n",
       "      <th>description</th>\n",
       "      <th>fit</th>\n",
       "      <th>title</th>\n",
       "      <th>also_buy</th>\n",
       "      <th>tech2</th>\n",
       "      <th>brand</th>\n",
       "      <th>feature</th>\n",
       "      <th>rank</th>\n",
       "      <th>also_view</th>\n",
       "      <th>main_cat</th>\n",
       "      <th>similar_item</th>\n",
       "      <th>date</th>\n",
       "      <th>price</th>\n",
       "      <th>asin</th>\n",
       "      <th>imageURL</th>\n",
       "      <th>imageURLHighRes</th>\n",
       "      <th>details</th>\n",
       "    </tr>\n",
       "  </thead>\n",
       "  <tbody>\n",
       "    <tr>\n",
       "      <th>0</th>\n",
       "      <td>0</td>\n",
       "      <td>[]</td>\n",
       "      <td>NaN</td>\n",
       "      <td>['It is a biology book with God&amp;apos;s perspec...</td>\n",
       "      <td>NaN</td>\n",
       "      <td>Biology Gods Living Creation Third Edition 10 ...</td>\n",
       "      <td>['0669009075', 'B000K2P5SA', 'B00MD4G2N0', 'B0...</td>\n",
       "      <td>NaN</td>\n",
       "      <td>Keith Graham</td>\n",
       "      <td>[]</td>\n",
       "      <td>1,349,781 in Books (</td>\n",
       "      <td>['0019777701', 'B000AUCX7I', 'B000K2P5SA', 'B0...</td>\n",
       "      <td>Books</td>\n",
       "      <td>NaN</td>\n",
       "      <td>NaN</td>\n",
       "      <td>$39.94</td>\n",
       "      <td>0000092878</td>\n",
       "      <td>[]</td>\n",
       "      <td>[]</td>\n",
       "      <td>NaN</td>\n",
       "    </tr>\n",
       "    <tr>\n",
       "      <th>1</th>\n",
       "      <td>1</td>\n",
       "      <td>['Books', 'New, Used &amp; Rental Textbooks', 'Med...</td>\n",
       "      <td>NaN</td>\n",
       "      <td>[]</td>\n",
       "      <td>NaN</td>\n",
       "      <td>Mksap 16 Audio Companion: Medical Knowledge Se...</td>\n",
       "      <td>[]</td>\n",
       "      <td>NaN</td>\n",
       "      <td>Acp</td>\n",
       "      <td>[]</td>\n",
       "      <td>1,702,625 in Books (</td>\n",
       "      <td>['B01MUCYEV7', 'B01KUGTY6O']</td>\n",
       "      <td>Books</td>\n",
       "      <td>NaN</td>\n",
       "      <td>NaN</td>\n",
       "      <td>NaN</td>\n",
       "      <td>000047715X</td>\n",
       "      <td>[]</td>\n",
       "      <td>[]</td>\n",
       "      <td>NaN</td>\n",
       "    </tr>\n",
       "    <tr>\n",
       "      <th>2</th>\n",
       "      <td>2</td>\n",
       "      <td>['Books', 'Arts &amp; Photography', 'Music']</td>\n",
       "      <td>NaN</td>\n",
       "      <td>['Discography of American Punk, Hardcore, and ...</td>\n",
       "      <td>NaN</td>\n",
       "      <td>Flex! Discography of North American Punk, Hard...</td>\n",
       "      <td>[]</td>\n",
       "      <td>NaN</td>\n",
       "      <td>Burkhard Jarisch</td>\n",
       "      <td>[]</td>\n",
       "      <td>6,291,012 in Books (</td>\n",
       "      <td>[]</td>\n",
       "      <td>Books</td>\n",
       "      <td>NaN</td>\n",
       "      <td>NaN</td>\n",
       "      <td>$199.99</td>\n",
       "      <td>0000004545</td>\n",
       "      <td>[]</td>\n",
       "      <td>[]</td>\n",
       "      <td>NaN</td>\n",
       "    </tr>\n",
       "    <tr>\n",
       "      <th>3</th>\n",
       "      <td>3</td>\n",
       "      <td>['Books', 'Arts &amp; Photography', 'Music']</td>\n",
       "      <td>NaN</td>\n",
       "      <td>['This is a collection of classic gospel hymns...</td>\n",
       "      <td>NaN</td>\n",
       "      <td>Heavenly Highway Hymns: Shaped-Note Hymnal</td>\n",
       "      <td>[]</td>\n",
       "      <td>NaN</td>\n",
       "      <td>Stamps/Baxter</td>\n",
       "      <td>[]</td>\n",
       "      <td>2,384,057 in Books (</td>\n",
       "      <td>['0006180116', '0996092730', 'B000QFOGY0', 'B0...</td>\n",
       "      <td>Books</td>\n",
       "      <td>NaN</td>\n",
       "      <td>NaN</td>\n",
       "      <td>NaN</td>\n",
       "      <td>0000013765</td>\n",
       "      <td>[]</td>\n",
       "      <td>[]</td>\n",
       "      <td>NaN</td>\n",
       "    </tr>\n",
       "    <tr>\n",
       "      <th>4</th>\n",
       "      <td>4</td>\n",
       "      <td>[]</td>\n",
       "      <td>NaN</td>\n",
       "      <td>[]</td>\n",
       "      <td>NaN</td>\n",
       "      <td>Georgina Goodman Nelson Womens Size 8.5 Purple...</td>\n",
       "      <td>[]</td>\n",
       "      <td>NaN</td>\n",
       "      <td>NaN</td>\n",
       "      <td>[]</td>\n",
       "      <td>11,735,726 in Books (</td>\n",
       "      <td>[]</td>\n",
       "      <td>Books</td>\n",
       "      <td>NaN</td>\n",
       "      <td>NaN</td>\n",
       "      <td>$164.10</td>\n",
       "      <td>0000000116</td>\n",
       "      <td>[]</td>\n",
       "      <td>[]</td>\n",
       "      <td>NaN</td>\n",
       "    </tr>\n",
       "  </tbody>\n",
       "</table>\n",
       "</div>"
      ],
      "text/plain": [
       "   Unnamed: 0                                           category tech1  \\\n",
       "0           0                                                 []   NaN   \n",
       "1           1  ['Books', 'New, Used & Rental Textbooks', 'Med...   NaN   \n",
       "2           2           ['Books', 'Arts & Photography', 'Music']   NaN   \n",
       "3           3           ['Books', 'Arts & Photography', 'Music']   NaN   \n",
       "4           4                                                 []   NaN   \n",
       "\n",
       "                                         description  fit  \\\n",
       "0  ['It is a biology book with God&apos;s perspec...  NaN   \n",
       "1                                                 []  NaN   \n",
       "2  ['Discography of American Punk, Hardcore, and ...  NaN   \n",
       "3  ['This is a collection of classic gospel hymns...  NaN   \n",
       "4                                                 []  NaN   \n",
       "\n",
       "                                               title  \\\n",
       "0  Biology Gods Living Creation Third Edition 10 ...   \n",
       "1  Mksap 16 Audio Companion: Medical Knowledge Se...   \n",
       "2  Flex! Discography of North American Punk, Hard...   \n",
       "3         Heavenly Highway Hymns: Shaped-Note Hymnal   \n",
       "4  Georgina Goodman Nelson Womens Size 8.5 Purple...   \n",
       "\n",
       "                                            also_buy  tech2             brand  \\\n",
       "0  ['0669009075', 'B000K2P5SA', 'B00MD4G2N0', 'B0...    NaN      Keith Graham   \n",
       "1                                                 []    NaN               Acp   \n",
       "2                                                 []    NaN  Burkhard Jarisch   \n",
       "3                                                 []    NaN     Stamps/Baxter   \n",
       "4                                                 []    NaN               NaN   \n",
       "\n",
       "  feature                   rank  \\\n",
       "0      []   1,349,781 in Books (   \n",
       "1      []   1,702,625 in Books (   \n",
       "2      []   6,291,012 in Books (   \n",
       "3      []   2,384,057 in Books (   \n",
       "4      []  11,735,726 in Books (   \n",
       "\n",
       "                                           also_view main_cat similar_item  \\\n",
       "0  ['0019777701', 'B000AUCX7I', 'B000K2P5SA', 'B0...    Books          NaN   \n",
       "1                       ['B01MUCYEV7', 'B01KUGTY6O']    Books          NaN   \n",
       "2                                                 []    Books          NaN   \n",
       "3  ['0006180116', '0996092730', 'B000QFOGY0', 'B0...    Books          NaN   \n",
       "4                                                 []    Books          NaN   \n",
       "\n",
       "  date    price        asin imageURL imageURLHighRes details  \n",
       "0  NaN   $39.94  0000092878       []              []     NaN  \n",
       "1  NaN      NaN  000047715X       []              []     NaN  \n",
       "2  NaN  $199.99  0000004545       []              []     NaN  \n",
       "3  NaN      NaN  0000013765       []              []     NaN  \n",
       "4  NaN  $164.10  0000000116       []              []     NaN  "
      ]
     },
     "execution_count": 4,
     "metadata": {},
     "output_type": "execute_result"
    }
   ],
   "source": [
    "data.head()"
   ]
  },
  {
   "cell_type": "code",
   "execution_count": 32,
   "id": "3c523969",
   "metadata": {},
   "outputs": [
    {
     "data": {
      "text/plain": [
       "False"
      ]
     },
     "execution_count": 32,
     "metadata": {},
     "output_type": "execute_result"
    }
   ],
   "source": [
    "import numpy as np\n",
    "# np.unique(data[\"category\"])"
   ]
  },
  {
   "cell_type": "code",
   "execution_count": 48,
   "id": "471b887a",
   "metadata": {},
   "outputs": [
    {
     "data": {
      "text/plain": [
       "False"
      ]
     },
     "execution_count": 48,
     "metadata": {},
     "output_type": "execute_result"
    }
   ],
   "source": [
    "not data[\"asin\"][data[\"asin\"].isin(['0019777701'])].empty"
   ]
  },
  {
   "cell_type": "code",
   "execution_count": 36,
   "id": "874728d3",
   "metadata": {},
   "outputs": [
    {
     "data": {
      "text/plain": [
       "False"
      ]
     },
     "execution_count": 36,
     "metadata": {},
     "output_type": "execute_result"
    }
   ],
   "source": [
    "str(\"000047715X\") in data[\"asin\"]"
   ]
  },
  {
   "cell_type": "code",
   "execution_count": 31,
   "id": "05f065f9",
   "metadata": {},
   "outputs": [
    {
     "data": {
      "text/plain": [
       "'000047715X'"
      ]
     },
     "execution_count": 31,
     "metadata": {},
     "output_type": "execute_result"
    }
   ],
   "source": [
    "data[\"asin\"][1]"
   ]
  },
  {
   "cell_type": "code",
   "execution_count": 29,
   "id": "4e9e8183",
   "metadata": {},
   "outputs": [
    {
     "data": {
      "text/plain": [
       "0          0000092878\n",
       "1          000047715X\n",
       "2          0000004545\n",
       "3          0000013765\n",
       "4          0000000116\n",
       "              ...    \n",
       "2934944    B01HJBPTUI\n",
       "2934945    B01HJC63ZM\n",
       "2934946    B01HJEB422\n",
       "2934947    B01HJDS76Y\n",
       "2934948    B01HJFHYMA\n",
       "Name: asin, Length: 2934949, dtype: object"
      ]
     },
     "execution_count": 29,
     "metadata": {},
     "output_type": "execute_result"
    }
   ],
   "source": [
    "data[\"asin\"]"
   ]
  },
  {
   "cell_type": "code",
   "execution_count": 12,
   "id": "69bdef2a",
   "metadata": {},
   "outputs": [
    {
     "data": {
      "text/plain": [
       "\"['Books', 'Literature & Fiction', 'Contemporary']\""
      ]
     },
     "execution_count": 12,
     "metadata": {},
     "output_type": "execute_result"
    }
   ],
   "source": [
    "data[\"category\"][18]"
   ]
  },
  {
   "cell_type": "code",
   "execution_count": 14,
   "id": "d2484b7e",
   "metadata": {},
   "outputs": [
    {
     "data": {
      "text/plain": [
       "Index(['Unnamed: 0', 'category', 'tech1', 'description', 'fit', 'title',\n",
       "       'also_buy', 'tech2', 'brand', 'feature', 'rank', 'also_view',\n",
       "       'main_cat', 'similar_item', 'date', 'price', 'asin', 'imageURL',\n",
       "       'imageURLHighRes', 'details'],\n",
       "      dtype='object')"
      ]
     },
     "execution_count": 14,
     "metadata": {},
     "output_type": "execute_result"
    }
   ],
   "source": [
    "data.columns"
   ]
  },
  {
   "cell_type": "code",
   "execution_count": null,
   "id": "a345c32b",
   "metadata": {},
   "outputs": [],
   "source": []
  },
  {
   "cell_type": "code",
   "execution_count": null,
   "id": "258b95f3",
   "metadata": {},
   "outputs": [],
   "source": []
  },
  {
   "cell_type": "code",
   "execution_count": null,
   "id": "a46d61a0",
   "metadata": {},
   "outputs": [],
   "source": []
  },
  {
   "cell_type": "code",
   "execution_count": 56,
   "id": "32db6b01",
   "metadata": {},
   "outputs": [],
   "source": [
    "d = dict(zip(data[\"asin\"], data[\"also_buy\"]))"
   ]
  },
  {
   "cell_type": "code",
   "execution_count": 57,
   "id": "5f25d74f",
   "metadata": {},
   "outputs": [],
   "source": [
    "df = pd.DataFrame.from_dict(d, orient='index')"
   ]
  },
  {
   "cell_type": "code",
   "execution_count": 63,
   "id": "6f1fdfd6",
   "metadata": {},
   "outputs": [],
   "source": [
    "df.rename(columns = {0:'also_buy'}, inplace = True)"
   ]
  },
  {
   "cell_type": "code",
   "execution_count": 68,
   "id": "6aae5f7e",
   "metadata": {},
   "outputs": [],
   "source": [
    "df1 = df.reset_index()"
   ]
  },
  {
   "cell_type": "code",
   "execution_count": 69,
   "id": "4adc7f62",
   "metadata": {},
   "outputs": [
    {
     "data": {
      "text/html": [
       "<div>\n",
       "<style scoped>\n",
       "    .dataframe tbody tr th:only-of-type {\n",
       "        vertical-align: middle;\n",
       "    }\n",
       "\n",
       "    .dataframe tbody tr th {\n",
       "        vertical-align: top;\n",
       "    }\n",
       "\n",
       "    .dataframe thead th {\n",
       "        text-align: right;\n",
       "    }\n",
       "</style>\n",
       "<table border=\"1\" class=\"dataframe\">\n",
       "  <thead>\n",
       "    <tr style=\"text-align: right;\">\n",
       "      <th></th>\n",
       "      <th>index</th>\n",
       "      <th>also_buy</th>\n",
       "    </tr>\n",
       "  </thead>\n",
       "  <tbody>\n",
       "    <tr>\n",
       "      <th>0</th>\n",
       "      <td>0000092878</td>\n",
       "      <td>['0669009075', 'B000K2P5SA', 'B00MD4G2N0', 'B0...</td>\n",
       "    </tr>\n",
       "    <tr>\n",
       "      <th>1</th>\n",
       "      <td>000047715X</td>\n",
       "      <td>[]</td>\n",
       "    </tr>\n",
       "    <tr>\n",
       "      <th>2</th>\n",
       "      <td>0000004545</td>\n",
       "      <td>[]</td>\n",
       "    </tr>\n",
       "    <tr>\n",
       "      <th>3</th>\n",
       "      <td>0000013765</td>\n",
       "      <td>[]</td>\n",
       "    </tr>\n",
       "    <tr>\n",
       "      <th>4</th>\n",
       "      <td>0000000116</td>\n",
       "      <td>[]</td>\n",
       "    </tr>\n",
       "    <tr>\n",
       "      <th>...</th>\n",
       "      <td>...</td>\n",
       "      <td>...</td>\n",
       "    </tr>\n",
       "    <tr>\n",
       "      <th>2930019</th>\n",
       "      <td>B01HJBPTUI</td>\n",
       "      <td>['B01CRJ3J1I']</td>\n",
       "    </tr>\n",
       "    <tr>\n",
       "      <th>2930020</th>\n",
       "      <td>B01HJC63ZM</td>\n",
       "      <td>['B01CWFQJKU', 'B01G7W20HA', 'B01CXJDC0U', 'B0...</td>\n",
       "    </tr>\n",
       "    <tr>\n",
       "      <th>2930021</th>\n",
       "      <td>B01HJEB422</td>\n",
       "      <td>[]</td>\n",
       "    </tr>\n",
       "    <tr>\n",
       "      <th>2930022</th>\n",
       "      <td>B01HJDS76Y</td>\n",
       "      <td>['B06XP26WK7', 'B0797Y6JH6', 'B01M72TG0D', 'B0...</td>\n",
       "    </tr>\n",
       "    <tr>\n",
       "      <th>2930023</th>\n",
       "      <td>B01HJFHYMA</td>\n",
       "      <td>[]</td>\n",
       "    </tr>\n",
       "  </tbody>\n",
       "</table>\n",
       "<p>2930024 rows × 2 columns</p>\n",
       "</div>"
      ],
      "text/plain": [
       "              index                                           also_buy\n",
       "0        0000092878  ['0669009075', 'B000K2P5SA', 'B00MD4G2N0', 'B0...\n",
       "1        000047715X                                                 []\n",
       "2        0000004545                                                 []\n",
       "3        0000013765                                                 []\n",
       "4        0000000116                                                 []\n",
       "...             ...                                                ...\n",
       "2930019  B01HJBPTUI                                     ['B01CRJ3J1I']\n",
       "2930020  B01HJC63ZM  ['B01CWFQJKU', 'B01G7W20HA', 'B01CXJDC0U', 'B0...\n",
       "2930021  B01HJEB422                                                 []\n",
       "2930022  B01HJDS76Y  ['B06XP26WK7', 'B0797Y6JH6', 'B01M72TG0D', 'B0...\n",
       "2930023  B01HJFHYMA                                                 []\n",
       "\n",
       "[2930024 rows x 2 columns]"
      ]
     },
     "execution_count": 69,
     "metadata": {},
     "output_type": "execute_result"
    }
   ],
   "source": [
    "df1"
   ]
  },
  {
   "cell_type": "code",
   "execution_count": 71,
   "id": "66ea4feb",
   "metadata": {},
   "outputs": [
    {
     "data": {
      "text/html": [
       "<div>\n",
       "<style scoped>\n",
       "    .dataframe tbody tr th:only-of-type {\n",
       "        vertical-align: middle;\n",
       "    }\n",
       "\n",
       "    .dataframe tbody tr th {\n",
       "        vertical-align: top;\n",
       "    }\n",
       "\n",
       "    .dataframe thead th {\n",
       "        text-align: right;\n",
       "    }\n",
       "</style>\n",
       "<table border=\"1\" class=\"dataframe\">\n",
       "  <thead>\n",
       "    <tr style=\"text-align: right;\">\n",
       "      <th></th>\n",
       "      <th>index</th>\n",
       "      <th>also_buy</th>\n",
       "    </tr>\n",
       "  </thead>\n",
       "  <tbody>\n",
       "    <tr>\n",
       "      <th>0</th>\n",
       "      <td>0000092878</td>\n",
       "      <td>['0669009075', 'B000K2P5SA', 'B00MD4G2N0', 'B0...</td>\n",
       "    </tr>\n",
       "    <tr>\n",
       "      <th>1</th>\n",
       "      <td>000047715X</td>\n",
       "      <td>[]</td>\n",
       "    </tr>\n",
       "    <tr>\n",
       "      <th>2</th>\n",
       "      <td>0000004545</td>\n",
       "      <td>[]</td>\n",
       "    </tr>\n",
       "    <tr>\n",
       "      <th>3</th>\n",
       "      <td>0000013765</td>\n",
       "      <td>[]</td>\n",
       "    </tr>\n",
       "    <tr>\n",
       "      <th>4</th>\n",
       "      <td>0000000116</td>\n",
       "      <td>[]</td>\n",
       "    </tr>\n",
       "    <tr>\n",
       "      <th>...</th>\n",
       "      <td>...</td>\n",
       "      <td>...</td>\n",
       "    </tr>\n",
       "    <tr>\n",
       "      <th>2930019</th>\n",
       "      <td>B01HJBPTUI</td>\n",
       "      <td>['B01CRJ3J1I']</td>\n",
       "    </tr>\n",
       "    <tr>\n",
       "      <th>2930020</th>\n",
       "      <td>B01HJC63ZM</td>\n",
       "      <td>['B01CWFQJKU', 'B01G7W20HA', 'B01CXJDC0U', 'B0...</td>\n",
       "    </tr>\n",
       "    <tr>\n",
       "      <th>2930021</th>\n",
       "      <td>B01HJEB422</td>\n",
       "      <td>[]</td>\n",
       "    </tr>\n",
       "    <tr>\n",
       "      <th>2930022</th>\n",
       "      <td>B01HJDS76Y</td>\n",
       "      <td>['B06XP26WK7', 'B0797Y6JH6', 'B01M72TG0D', 'B0...</td>\n",
       "    </tr>\n",
       "    <tr>\n",
       "      <th>2930023</th>\n",
       "      <td>B01HJFHYMA</td>\n",
       "      <td>[]</td>\n",
       "    </tr>\n",
       "  </tbody>\n",
       "</table>\n",
       "<p>2930024 rows × 2 columns</p>\n",
       "</div>"
      ],
      "text/plain": [
       "              index                                           also_buy\n",
       "0        0000092878  ['0669009075', 'B000K2P5SA', 'B00MD4G2N0', 'B0...\n",
       "1        000047715X                                                 []\n",
       "2        0000004545                                                 []\n",
       "3        0000013765                                                 []\n",
       "4        0000000116                                                 []\n",
       "...             ...                                                ...\n",
       "2930019  B01HJBPTUI                                     ['B01CRJ3J1I']\n",
       "2930020  B01HJC63ZM  ['B01CWFQJKU', 'B01G7W20HA', 'B01CXJDC0U', 'B0...\n",
       "2930021  B01HJEB422                                                 []\n",
       "2930022  B01HJDS76Y  ['B06XP26WK7', 'B0797Y6JH6', 'B01M72TG0D', 'B0...\n",
       "2930023  B01HJFHYMA                                                 []\n",
       "\n",
       "[2930024 rows x 2 columns]"
      ]
     },
     "execution_count": 71,
     "metadata": {},
     "output_type": "execute_result"
    }
   ],
   "source": [
    "df1.explode(\"also_buy\")"
   ]
  },
  {
   "cell_type": "code",
   "execution_count": null,
   "id": "ee768e40",
   "metadata": {},
   "outputs": [],
   "source": []
  },
  {
   "cell_type": "code",
   "execution_count": null,
   "id": "0d879b2e",
   "metadata": {},
   "outputs": [],
   "source": []
  },
  {
   "cell_type": "code",
   "execution_count": null,
   "id": "0be848e5",
   "metadata": {},
   "outputs": [],
   "source": []
  },
  {
   "cell_type": "code",
   "execution_count": null,
   "id": "cb766bb5",
   "metadata": {},
   "outputs": [],
   "source": []
  },
  {
   "cell_type": "code",
   "execution_count": null,
   "id": "dfeaca34",
   "metadata": {},
   "outputs": [],
   "source": [
    "df = pd.crosstab(df.actual, df.predicted)"
   ]
  }
 ],
 "metadata": {
  "kernelspec": {
   "display_name": "Python 3 (ipykernel)",
   "language": "python",
   "name": "python3"
  },
  "language_info": {
   "codemirror_mode": {
    "name": "ipython",
    "version": 3
   },
   "file_extension": ".py",
   "mimetype": "text/x-python",
   "name": "python",
   "nbconvert_exporter": "python",
   "pygments_lexer": "ipython3",
   "version": "3.9.13"
  }
 },
 "nbformat": 4,
 "nbformat_minor": 5
}
