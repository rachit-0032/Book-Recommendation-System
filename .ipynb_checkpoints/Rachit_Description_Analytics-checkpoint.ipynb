{
 "cells": [
  {
   "cell_type": "code",
   "execution_count": 54,
   "id": "41fd2c8a",
   "metadata": {},
   "outputs": [],
   "source": [
    "import pandas as pd\n",
    "import numpy as np\n",
    "import re"
   ]
  },
  {
   "cell_type": "code",
   "execution_count": 55,
   "id": "a629c6b7",
   "metadata": {},
   "outputs": [
    {
     "name": "stderr",
     "output_type": "stream",
     "text": [
      "/var/folders/kn/5p9n18rd2r58j5lzlvq6zh040000gn/T/ipykernel_49263/3028155683.py:1: DtypeWarning: Columns (2,4,13,14,19) have mixed types. Specify dtype option on import or set low_memory=False.\n",
      "  df_amazon = pd.read_csv('../../Data/Amazon/meta_books.csv')\n"
     ]
    }
   ],
   "source": [
    "df_amazon = pd.read_csv('../../Data/Amazon/meta_books.csv')"
   ]
  },
  {
   "cell_type": "code",
   "execution_count": 117,
   "id": "3daba06c",
   "metadata": {},
   "outputs": [],
   "source": [
    "df_merged = pd.read_csv('../../Data/final_dataset.csv')"
   ]
  },
  {
   "cell_type": "code",
   "execution_count": 118,
   "id": "8239b173",
   "metadata": {},
   "outputs": [
    {
     "data": {
      "text/html": [
       "<div>\n",
       "<style scoped>\n",
       "    .dataframe tbody tr th:only-of-type {\n",
       "        vertical-align: middle;\n",
       "    }\n",
       "\n",
       "    .dataframe tbody tr th {\n",
       "        vertical-align: top;\n",
       "    }\n",
       "\n",
       "    .dataframe thead th {\n",
       "        text-align: right;\n",
       "    }\n",
       "</style>\n",
       "<table border=\"1\" class=\"dataframe\">\n",
       "  <thead>\n",
       "    <tr style=\"text-align: right;\">\n",
       "      <th></th>\n",
       "      <th>Index</th>\n",
       "      <th>ISBN</th>\n",
       "      <th>Book-Title</th>\n",
       "      <th>Book-Author</th>\n",
       "      <th>Year-Of-Publication</th>\n",
       "      <th>Publisher</th>\n",
       "      <th>Genre</th>\n",
       "      <th>description</th>\n",
       "      <th>also_buy</th>\n",
       "      <th>Rank</th>\n",
       "      <th>also_view</th>\n",
       "      <th>Price</th>\n",
       "      <th>asin</th>\n",
       "      <th>match_value</th>\n",
       "    </tr>\n",
       "  </thead>\n",
       "  <tbody>\n",
       "    <tr>\n",
       "      <th>6278</th>\n",
       "      <td>17449</td>\n",
       "      <td>880449509X</td>\n",
       "      <td>Sola Come Un Gambo Di Sedano</td>\n",
       "      <td>Luciana Littizzetto</td>\n",
       "      <td>2001</td>\n",
       "      <td>Mondadori (IT)</td>\n",
       "      <td>Biographies &amp; Memoirs</td>\n",
       "      <td>['Una donna tragicamente e comicamente contemp...</td>\n",
       "      <td>[]</td>\n",
       "      <td>1,24,90,621</td>\n",
       "      <td>[]</td>\n",
       "      <td>7.72</td>\n",
       "      <td>880449509X</td>\n",
       "      <td>100</td>\n",
       "    </tr>\n",
       "    <tr>\n",
       "      <th>6279</th>\n",
       "      <td>17467</td>\n",
       "      <td>8817125539</td>\n",
       "      <td>An Italian in America</td>\n",
       "      <td>Beppe Severgnini</td>\n",
       "      <td>2001</td>\n",
       "      <td>St Martins Pr</td>\n",
       "      <td>Literature &amp; Fiction</td>\n",
       "      <td>['\"The discovery of America - which is as comp...</td>\n",
       "      <td>[]</td>\n",
       "      <td>13,24,923</td>\n",
       "      <td>['0767912365', '0767914406']</td>\n",
       "      <td>NaN</td>\n",
       "      <td>8817125539</td>\n",
       "      <td>100</td>\n",
       "    </tr>\n",
       "    <tr>\n",
       "      <th>6280</th>\n",
       "      <td>17485</td>\n",
       "      <td>950491036X</td>\n",
       "      <td>La Sombra del Viento</td>\n",
       "      <td>Carlos Ruiz Zafon</td>\n",
       "      <td>2003</td>\n",
       "      <td>Planeta</td>\n",
       "      <td>Literature &amp; Fiction</td>\n",
       "      <td>['Rare book']</td>\n",
       "      <td>[]</td>\n",
       "      <td>11,87,273</td>\n",
       "      <td>['0307472590']</td>\n",
       "      <td>NaN</td>\n",
       "      <td>8408105884</td>\n",
       "      <td>100</td>\n",
       "    </tr>\n",
       "    <tr>\n",
       "      <th>6281</th>\n",
       "      <td>17489</td>\n",
       "      <td>9681500954</td>\n",
       "      <td>Lobo estepario</td>\n",
       "      <td>Hermann Hesse</td>\n",
       "      <td>1998</td>\n",
       "      <td>Editorial Diana, S.A.</td>\n",
       "      <td>Reference</td>\n",
       "      <td>['', '']</td>\n",
       "      <td>[]</td>\n",
       "      <td>96,42,244</td>\n",
       "      <td>[]</td>\n",
       "      <td>NaN</td>\n",
       "      <td>9686769560</td>\n",
       "      <td>100</td>\n",
       "    </tr>\n",
       "    <tr>\n",
       "      <th>6282</th>\n",
       "      <td>17494</td>\n",
       "      <td>B00009EF82</td>\n",
       "      <td>Hannibal</td>\n",
       "      <td>Thomas Harris</td>\n",
       "      <td>1999</td>\n",
       "      <td>Delacorte Press</td>\n",
       "      <td>Literature &amp; Fiction</td>\n",
       "      <td>['in12. broch.', '', '']</td>\n",
       "      <td>['0425228223', '0312195265', '0099532956', '04...</td>\n",
       "      <td>61,55,703</td>\n",
       "      <td>['0425228223', '0312924585', '044024286X', '95...</td>\n",
       "      <td>39.40</td>\n",
       "      <td>99297701</td>\n",
       "      <td>100</td>\n",
       "    </tr>\n",
       "  </tbody>\n",
       "</table>\n",
       "</div>"
      ],
      "text/plain": [
       "      Index        ISBN                    Book-Title          Book-Author  \\\n",
       "6278  17449  880449509X  Sola Come Un Gambo Di Sedano  Luciana Littizzetto   \n",
       "6279  17467  8817125539         An Italian in America     Beppe Severgnini   \n",
       "6280  17485  950491036X          La Sombra del Viento    Carlos Ruiz Zafon   \n",
       "6281  17489  9681500954                Lobo estepario        Hermann Hesse   \n",
       "6282  17494  B00009EF82                      Hannibal        Thomas Harris   \n",
       "\n",
       "      Year-Of-Publication              Publisher                  Genre  \\\n",
       "6278                 2001         Mondadori (IT)  Biographies & Memoirs   \n",
       "6279                 2001          St Martins Pr   Literature & Fiction   \n",
       "6280                 2003                Planeta   Literature & Fiction   \n",
       "6281                 1998  Editorial Diana, S.A.              Reference   \n",
       "6282                 1999        Delacorte Press   Literature & Fiction   \n",
       "\n",
       "                                            description  \\\n",
       "6278  ['Una donna tragicamente e comicamente contemp...   \n",
       "6279  ['\"The discovery of America - which is as comp...   \n",
       "6280                                      ['Rare book']   \n",
       "6281                                           ['', '']   \n",
       "6282                           ['in12. broch.', '', '']   \n",
       "\n",
       "                                               also_buy         Rank  \\\n",
       "6278                                                 []  1,24,90,621   \n",
       "6279                                                 []    13,24,923   \n",
       "6280                                                 []    11,87,273   \n",
       "6281                                                 []    96,42,244   \n",
       "6282  ['0425228223', '0312195265', '0099532956', '04...    61,55,703   \n",
       "\n",
       "                                              also_view  Price        asin  \\\n",
       "6278                                                 []   7.72  880449509X   \n",
       "6279                       ['0767912365', '0767914406']    NaN  8817125539   \n",
       "6280                                     ['0307472590']    NaN  8408105884   \n",
       "6281                                                 []    NaN  9686769560   \n",
       "6282  ['0425228223', '0312924585', '044024286X', '95...  39.40    99297701   \n",
       "\n",
       "      match_value  \n",
       "6278          100  \n",
       "6279          100  \n",
       "6280          100  \n",
       "6281          100  \n",
       "6282          100  "
      ]
     },
     "execution_count": 118,
     "metadata": {},
     "output_type": "execute_result"
    }
   ],
   "source": [
    "df_merged.tail()"
   ]
  },
  {
   "cell_type": "code",
   "execution_count": null,
   "id": "74a696a9",
   "metadata": {},
   "outputs": [],
   "source": []
  },
  {
   "cell_type": "markdown",
   "id": "d9d103a9",
   "metadata": {},
   "source": [
    "## Data Cleaning"
   ]
  },
  {
   "cell_type": "code",
   "execution_count": 119,
   "id": "f82b5f9d",
   "metadata": {},
   "outputs": [],
   "source": [
    "df_merged['Book-Title'] = df_merged['Book-Title'].apply(lambda x: re.sub(r'[^\\w\\s]', '', x))\n",
    "df_merged['Book-Title'] = df_merged['Book-Title'].apply(lambda x: re.sub(' +', ' ', x))\n",
    "df_merged['description'] = df_merged['description'].apply(lambda x: re.sub(' +', ' ', x))\n",
    "df_merged['description'] = df_merged['description'].apply(lambda x: re.sub(r'[^\\w\\s]', '', x))\n",
    "df_merged['Rank'] = df_merged['Rank'].apply(lambda x: re.sub(r'[^\\w\\s]', '', x))\n",
    "df_merged['also_buy'] = df_merged['also_buy'].apply(lambda x: re.sub(r'[^\\w\\s]', '', x))\n",
    "df_merged['also_view'] = df_merged['also_view'].apply(lambda x: re.sub(r'[^\\w\\s]', '', x))"
   ]
  },
  {
   "cell_type": "code",
   "execution_count": 120,
   "id": "09361739",
   "metadata": {},
   "outputs": [],
   "source": [
    "df_merged['also_view'] = df_merged['also_view'].apply(lambda x: x.split(' '))\n",
    "df_merged['also_buy'] = df_merged['also_buy'].apply(lambda x: x.split(' '))"
   ]
  },
  {
   "cell_type": "code",
   "execution_count": 121,
   "id": "5dac2425",
   "metadata": {},
   "outputs": [],
   "source": [
    "df_merged['Rank'] = pd.to_numeric(df_merged['Rank'])"
   ]
  },
  {
   "cell_type": "code",
   "execution_count": 122,
   "id": "7f828816",
   "metadata": {},
   "outputs": [
    {
     "data": {
      "text/html": [
       "<div>\n",
       "<style scoped>\n",
       "    .dataframe tbody tr th:only-of-type {\n",
       "        vertical-align: middle;\n",
       "    }\n",
       "\n",
       "    .dataframe tbody tr th {\n",
       "        vertical-align: top;\n",
       "    }\n",
       "\n",
       "    .dataframe thead th {\n",
       "        text-align: right;\n",
       "    }\n",
       "</style>\n",
       "<table border=\"1\" class=\"dataframe\">\n",
       "  <thead>\n",
       "    <tr style=\"text-align: right;\">\n",
       "      <th></th>\n",
       "      <th>Index</th>\n",
       "      <th>ISBN</th>\n",
       "      <th>Book-Title</th>\n",
       "      <th>Book-Author</th>\n",
       "      <th>Year-Of-Publication</th>\n",
       "      <th>Publisher</th>\n",
       "      <th>Genre</th>\n",
       "      <th>description</th>\n",
       "      <th>also_buy</th>\n",
       "      <th>Rank</th>\n",
       "      <th>also_view</th>\n",
       "      <th>Price</th>\n",
       "      <th>asin</th>\n",
       "      <th>match_value</th>\n",
       "    </tr>\n",
       "  </thead>\n",
       "  <tbody>\n",
       "    <tr>\n",
       "      <th>0</th>\n",
       "      <td>2</td>\n",
       "      <td>2255081</td>\n",
       "      <td>Spadework</td>\n",
       "      <td>Timothy Findley</td>\n",
       "      <td>2001</td>\n",
       "      <td>HarperFlamingo Canada</td>\n",
       "      <td>Literature &amp; Fiction</td>\n",
       "      <td>Timothy Findley was one of Canada8217s most co...</td>\n",
       "      <td>[]</td>\n",
       "      <td>19083696</td>\n",
       "      <td>[0440550017, 057120905X, 0060929375]</td>\n",
       "      <td>120.00</td>\n",
       "      <td>2255081</td>\n",
       "      <td>100</td>\n",
       "    </tr>\n",
       "    <tr>\n",
       "      <th>1</th>\n",
       "      <td>9</td>\n",
       "      <td>6485936</td>\n",
       "      <td>Dust</td>\n",
       "      <td>Arthur G. Slade</td>\n",
       "      <td>2001</td>\n",
       "      <td>HarperCollins Publishers</td>\n",
       "      <td>Children's Books</td>\n",
       "      <td>Grade 69In a bonedry summer during the Great D...</td>\n",
       "      <td>[]</td>\n",
       "      <td>17966363</td>\n",
       "      <td>[0544838262, B0719LDQR1]</td>\n",
       "      <td>26.63</td>\n",
       "      <td>6485944</td>\n",
       "      <td>100</td>\n",
       "    </tr>\n",
       "    <tr>\n",
       "      <th>2</th>\n",
       "      <td>12</td>\n",
       "      <td>6512062</td>\n",
       "      <td>Trials of Tiffany Trott</td>\n",
       "      <td>Isabel Wolff</td>\n",
       "      <td>1998</td>\n",
       "      <td>Harper Collins Publishers</td>\n",
       "      <td>Literature &amp; Fiction</td>\n",
       "      <td>Tiffany Trott is 37 attractive successful and ...</td>\n",
       "      <td>[000717828X, 0007118619, 0007455062, 150394050...</td>\n",
       "      <td>5690620</td>\n",
       "      <td>[]</td>\n",
       "      <td>67.39</td>\n",
       "      <td>6512062</td>\n",
       "      <td>100</td>\n",
       "    </tr>\n",
       "    <tr>\n",
       "      <th>3</th>\n",
       "      <td>21</td>\n",
       "      <td>6551971</td>\n",
       "      <td>Swimmer</td>\n",
       "      <td>Bill Broady</td>\n",
       "      <td>2003</td>\n",
       "      <td>Trafalgar Square</td>\n",
       "      <td>Literature &amp; Fiction</td>\n",
       "      <td></td>\n",
       "      <td>[]</td>\n",
       "      <td>17945557</td>\n",
       "      <td>[]</td>\n",
       "      <td>30.39</td>\n",
       "      <td>6551971</td>\n",
       "      <td>100</td>\n",
       "    </tr>\n",
       "    <tr>\n",
       "      <th>4</th>\n",
       "      <td>24</td>\n",
       "      <td>7110928</td>\n",
       "      <td>Billy</td>\n",
       "      <td>Pamela Stephenson</td>\n",
       "      <td>2002</td>\n",
       "      <td>HarperCollins Entertainment</td>\n",
       "      <td>Biographies &amp; Memoirs</td>\n",
       "      <td>The inside story of the one of the most succes...</td>\n",
       "      <td>[B00000IQC6]</td>\n",
       "      <td>3029755</td>\n",
       "      <td>[B00006JMQR, 075531283X, 1847445217, B00783NWA...</td>\n",
       "      <td>18.20</td>\n",
       "      <td>7110928</td>\n",
       "      <td>100</td>\n",
       "    </tr>\n",
       "  </tbody>\n",
       "</table>\n",
       "</div>"
      ],
      "text/plain": [
       "   Index     ISBN               Book-Title        Book-Author  \\\n",
       "0      2  2255081                Spadework    Timothy Findley   \n",
       "1      9  6485936                     Dust    Arthur G. Slade   \n",
       "2     12  6512062  Trials of Tiffany Trott       Isabel Wolff   \n",
       "3     21  6551971                  Swimmer        Bill Broady   \n",
       "4     24  7110928                    Billy  Pamela Stephenson   \n",
       "\n",
       "   Year-Of-Publication                    Publisher                  Genre  \\\n",
       "0                 2001        HarperFlamingo Canada   Literature & Fiction   \n",
       "1                 2001     HarperCollins Publishers       Children's Books   \n",
       "2                 1998    Harper Collins Publishers   Literature & Fiction   \n",
       "3                 2003             Trafalgar Square   Literature & Fiction   \n",
       "4                 2002  HarperCollins Entertainment  Biographies & Memoirs   \n",
       "\n",
       "                                         description  \\\n",
       "0  Timothy Findley was one of Canada8217s most co...   \n",
       "1  Grade 69In a bonedry summer during the Great D...   \n",
       "2  Tiffany Trott is 37 attractive successful and ...   \n",
       "3                                                      \n",
       "4  The inside story of the one of the most succes...   \n",
       "\n",
       "                                            also_buy      Rank  \\\n",
       "0                                                 []  19083696   \n",
       "1                                                 []  17966363   \n",
       "2  [000717828X, 0007118619, 0007455062, 150394050...   5690620   \n",
       "3                                                 []  17945557   \n",
       "4                                       [B00000IQC6]   3029755   \n",
       "\n",
       "                                           also_view   Price     asin  \\\n",
       "0               [0440550017, 057120905X, 0060929375]  120.00  2255081   \n",
       "1                           [0544838262, B0719LDQR1]   26.63  6485944   \n",
       "2                                                 []   67.39  6512062   \n",
       "3                                                 []   30.39  6551971   \n",
       "4  [B00006JMQR, 075531283X, 1847445217, B00783NWA...   18.20  7110928   \n",
       "\n",
       "   match_value  \n",
       "0          100  \n",
       "1          100  \n",
       "2          100  \n",
       "3          100  \n",
       "4          100  "
      ]
     },
     "execution_count": 122,
     "metadata": {},
     "output_type": "execute_result"
    }
   ],
   "source": [
    "df_merged.head()"
   ]
  },
  {
   "cell_type": "code",
   "execution_count": 123,
   "id": "a3b2beb2",
   "metadata": {},
   "outputs": [],
   "source": [
    "df_merged = df_merged.drop_duplicates(['Book-Title','Book-Author'])"
   ]
  },
  {
   "cell_type": "code",
   "execution_count": 124,
   "id": "fc3cdb6d",
   "metadata": {},
   "outputs": [],
   "source": [
    "df_merged.drop(['Index', 'match_value'], axis=1, inplace=True)"
   ]
  },
  {
   "cell_type": "code",
   "execution_count": 125,
   "id": "01501fa8",
   "metadata": {},
   "outputs": [
    {
     "name": "stdout",
     "output_type": "stream",
     "text": [
      "<class 'pandas.core.frame.DataFrame'>\n",
      "Int64Index: 5437 entries, 0 to 6281\n",
      "Data columns (total 12 columns):\n",
      " #   Column               Non-Null Count  Dtype  \n",
      "---  ------               --------------  -----  \n",
      " 0   ISBN                 5437 non-null   object \n",
      " 1   Book-Title           5437 non-null   object \n",
      " 2   Book-Author          5437 non-null   object \n",
      " 3   Year-Of-Publication  5437 non-null   int64  \n",
      " 4   Publisher            5437 non-null   object \n",
      " 5   Genre                5437 non-null   object \n",
      " 6   description          5437 non-null   object \n",
      " 7   also_buy             5437 non-null   object \n",
      " 8   Rank                 5437 non-null   int64  \n",
      " 9   also_view            5437 non-null   object \n",
      " 10  Price                4133 non-null   float64\n",
      " 11  asin                 5437 non-null   object \n",
      "dtypes: float64(1), int64(2), object(9)\n",
      "memory usage: 552.2+ KB\n"
     ]
    }
   ],
   "source": [
    "df_merged.info()"
   ]
  },
  {
   "cell_type": "code",
   "execution_count": 126,
   "id": "1891b84c",
   "metadata": {},
   "outputs": [],
   "source": [
    "df_merged.reset_index(drop=True, inplace=True)"
   ]
  },
  {
   "cell_type": "code",
   "execution_count": 127,
   "id": "e6a9cb08",
   "metadata": {},
   "outputs": [],
   "source": [
    "df_merged.to_csv('../../Data/cleaned_dataset_rachit.csv')"
   ]
  },
  {
   "cell_type": "code",
   "execution_count": null,
   "id": "b1231010",
   "metadata": {},
   "outputs": [],
   "source": []
  },
  {
   "cell_type": "markdown",
   "id": "f9562d0f",
   "metadata": {},
   "source": [
    "## Description Analytics"
   ]
  },
  {
   "cell_type": "code",
   "execution_count": 128,
   "id": "5884c9d0",
   "metadata": {},
   "outputs": [
    {
     "data": {
      "text/plain": [
       "(5437, 71282)"
      ]
     },
     "execution_count": 128,
     "metadata": {},
     "output_type": "execute_result"
    }
   ],
   "source": [
    "#Import TfIdfVectorizer from scikit-learn\n",
    "from sklearn.feature_extraction.text import TfidfVectorizer\n",
    "\n",
    "#Define a TF-IDF Vectorizer Object. Remove all english stop words such as 'the', 'a'\n",
    "tfidf = TfidfVectorizer(stop_words='english')\n",
    "\n",
    "#Replace NaN with an empty string\n",
    "df_merged['description'] = df_merged['description'].fillna('')\n",
    "\n",
    "#Construct the required TF-IDF matrix by fitting and transforming the data\n",
    "tfidf_matrix = tfidf.fit_transform(df_merged['description'])\n",
    "\n",
    "#Output the shape of tfidf_matrix\n",
    "tfidf_matrix.shape"
   ]
  },
  {
   "cell_type": "code",
   "execution_count": 129,
   "id": "d97de376",
   "metadata": {},
   "outputs": [
    {
     "data": {
      "text/plain": [
       "<5437x71282 sparse matrix of type '<class 'numpy.float64'>'\n",
       "\twith 509518 stored elements in Compressed Sparse Row format>"
      ]
     },
     "execution_count": 129,
     "metadata": {},
     "output_type": "execute_result"
    }
   ],
   "source": [
    "tfidf_matrix"
   ]
  },
  {
   "cell_type": "code",
   "execution_count": 130,
   "id": "7c286fe6",
   "metadata": {},
   "outputs": [],
   "source": [
    "# Import linear_kernel\n",
    "from sklearn.metrics.pairwise import linear_kernel\n",
    "\n",
    "# Compute the cosine similarity matrix\n",
    "cosine_sim = linear_kernel(tfidf_matrix, tfidf_matrix)"
   ]
  },
  {
   "cell_type": "code",
   "execution_count": 131,
   "id": "b5850cc6",
   "metadata": {},
   "outputs": [],
   "source": [
    "indices = pd.Series(df_merged.index, index = df_merged['Book-Title']).drop_duplicates()"
   ]
  },
  {
   "cell_type": "code",
   "execution_count": 132,
   "id": "722ad5da",
   "metadata": {},
   "outputs": [],
   "source": [
    "# Function that takes in movie title as input and outputs most similar movies\n",
    "def get_recommendations(title, cosine_sim=cosine_sim):\n",
    "    # Get the index of the movie that matches the title\n",
    "    idx = indices[title]\n",
    "\n",
    "    # Get the pairwsie similarity scores of all movies with that movie\n",
    "    sim_scores = list(enumerate(cosine_sim[idx]))\n",
    "\n",
    "    # Sort the movies based on the similarity scores\n",
    "    sim_scores = sorted(sim_scores, key=lambda x: x[1], reverse=True)\n",
    "\n",
    "    # Get the scores of the 10 most similar movies\n",
    "    sim_scores = sim_scores[1:11]\n",
    "\n",
    "    # Get the book indices\n",
    "    book_indices = [i[0] for i in sim_scores]\n",
    "\n",
    "    # Return the top 10 most similar movies\n",
    "    return df_merged['Book-Title'].iloc[book_indices]"
   ]
  },
  {
   "cell_type": "code",
   "execution_count": 133,
   "id": "5d8226bb",
   "metadata": {},
   "outputs": [
    {
     "data": {
      "text/plain": [
       "2012                        Blow Fly A Scarpetta Novel\n",
       "610     Bridesmaids Revisited An Ellie Haskell Mystery\n",
       "517                                             Stones\n",
       "843                                    House of Dreams\n",
       "179                  Everything Is Illuminated A Novel\n",
       "5041                                     Cyanide Wells\n",
       "5227                                     Storm Warning\n",
       "3236                                           Haunted\n",
       "5215                                           Haunted\n",
       "1426                                        Love Story\n",
       "Name: Book-Title, dtype: object"
      ]
     },
     "execution_count": 133,
     "metadata": {},
     "output_type": "execute_result"
    }
   ],
   "source": [
    "get_recommendations('Spadework')"
   ]
  },
  {
   "cell_type": "code",
   "execution_count": 134,
   "id": "2ce54fd2",
   "metadata": {},
   "outputs": [
    {
     "data": {
      "text/plain": [
       "(5437, 12)"
      ]
     },
     "execution_count": 134,
     "metadata": {},
     "output_type": "execute_result"
    }
   ],
   "source": [
    "df_merged.shape"
   ]
  },
  {
   "cell_type": "code",
   "execution_count": null,
   "id": "980568bd",
   "metadata": {},
   "outputs": [],
   "source": []
  }
 ],
 "metadata": {
  "kernelspec": {
   "display_name": "Python 3 (ipykernel)",
   "language": "python",
   "name": "python3"
  },
  "language_info": {
   "codemirror_mode": {
    "name": "ipython",
    "version": 3
   },
   "file_extension": ".py",
   "mimetype": "text/x-python",
   "name": "python",
   "nbconvert_exporter": "python",
   "pygments_lexer": "ipython3",
   "version": "3.9.13"
  }
 },
 "nbformat": 4,
 "nbformat_minor": 5
}
